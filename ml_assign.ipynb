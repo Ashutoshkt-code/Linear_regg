{
  "nbformat": 4,
  "nbformat_minor": 0,
  "metadata": {
    "colab": {
      "provenance": []
    },
    "kernelspec": {
      "name": "python3",
      "display_name": "Python 3"
    },
    "language_info": {
      "name": "python"
    }
  },
  "cells": [
    {
      "cell_type": "code",
      "execution_count": 4,
      "metadata": {
        "id": "cCUu6xLyonT3"
      },
      "outputs": [],
      "source": [
        "import numpy as np\n",
        "import pandas as pd\n",
        "import matplotlib.pyplot as plt"
      ]
    },
    {
      "cell_type": "code",
      "source": [
        "X = pd.read_csv(\"linearX.csv\").values\n",
        "y = pd.read_csv(\"linearY.csv\").values"
      ],
      "metadata": {
        "id": "ILEbK5Qkr9C2"
      },
      "execution_count": 5,
      "outputs": []
    },
    {
      "cell_type": "code",
      "source": [
        "X = X.reshape(-1, 1)\n",
        "y = y.reshape(-1, 1)"
      ],
      "metadata": {
        "id": "mSXGy8EWa4Ft"
      },
      "execution_count": 6,
      "outputs": []
    },
    {
      "cell_type": "markdown",
      "source": [
        "Data normalizing"
      ],
      "metadata": {
        "id": "-9c0aRxNg9G1"
      }
    },
    {
      "cell_type": "code",
      "source": [
        "# Normalize features (Standardization: Mean = 0, Std Dev = 1)\n",
        "X_mean = np.mean(X)\n",
        "X_std = np.std(X)\n",
        "X = (X - X_mean) / X_std\n",
        "\n",
        "y_mean = np.mean(y)\n",
        "y_std = np.std(y)\n",
        "y = (y - y_mean) / y_std\n"
      ],
      "metadata": {
        "id": "W4aMehldg8k-"
      },
      "execution_count": 7,
      "outputs": []
    },
    {
      "cell_type": "markdown",
      "source": [
        "predictor normalization"
      ],
      "metadata": {
        "id": "l673uR4ChaxC"
      }
    },
    {
      "cell_type": "code",
      "source": [
        "# Normalize predictor (X) using Z-score normalization\n",
        "X_mean = np.mean(X)\n",
        "X_std = np.std(X)\n",
        "X = (X - X_mean) / X_std"
      ],
      "metadata": {
        "id": "mwZ9YGDvhYA0"
      },
      "execution_count": 8,
      "outputs": []
    },
    {
      "cell_type": "code",
      "source": [
        "def gradient_descent(X, y, learning_rate=0.01, num_iterations=1000):\n",
        "    m = len(y)  # Number of training examples\n",
        "    theta_0, theta_1 = 0, 0  # Initial parameters\n",
        "    cost_history = []\n",
        "    for iteration in range(num_iterations):\n",
        "        # Hypothesis\n",
        "        predictions = theta_0 + theta_1 * X\n",
        "        errors = predictions - y\n",
        "\n",
        "        # Cost function\n",
        "        cost = (1 / (2 * m)) * np.sum(errors ** 2)\n",
        "        cost_history.append(cost)\n",
        "\n",
        "        # Gradients\n",
        "        gradient_theta_0 = (1 / m) * np.sum(errors)\n",
        "        gradient_theta_1 = (1 / m) * np.sum(errors * X)\n",
        "\n",
        "        # Update parameters\n",
        "        theta_0 -= learning_rate * gradient_theta_0\n",
        "        theta_1 -= learning_rate * gradient_theta_1\n",
        "\n",
        "    return theta_0, theta_1, cost_history"
      ],
      "metadata": {
        "id": "iHadET9weW2S"
      },
      "execution_count": 9,
      "outputs": []
    },
    {
      "cell_type": "markdown",
      "source": [
        "Training the Model"
      ],
      "metadata": {
        "id": "2opyIhLIgTGM"
      }
    },
    {
      "cell_type": "markdown",
      "source": [],
      "metadata": {
        "id": "W-gVDX03iIwP"
      }
    },
    {
      "cell_type": "code",
      "source": [
        "theta_0, theta_1, cost_history = gradient_descent(X, y, learning_rate=0.5, num_iterations=2000)"
      ],
      "metadata": {
        "id": "sDa2uDfseijW"
      },
      "execution_count": 10,
      "outputs": []
    },
    {
      "cell_type": "markdown",
      "source": [
        "plotting"
      ],
      "metadata": {
        "id": "_nSCpXXdgah2"
      }
    },
    {
      "cell_type": "code",
      "source": [
        "learning_rates = [0.005, 0.5, 5]\n",
        "\n",
        "plt.figure(figsize=(10, 5))\n",
        "\n",
        "for lr in learning_rates:\n",
        "    _, _, cost_hist = gradient_descent(X, y, learning_rate=lr, num_iterations=50)\n",
        "    plt.plot(range(50), cost_hist[:50], label=f\"LR = {lr}\")\n",
        "\n",
        "plt.xlabel(\"Iterations\")\n",
        "plt.ylabel(\"Cost\")\n",
        "plt.legend()\n",
        "plt.title(\"Cost Function for Different Learning Rates\")\n",
        "plt.show()\n"
      ],
      "metadata": {
        "colab": {
          "base_uri": "https://localhost:8080/",
          "height": 487
        },
        "id": "gI5eHebVfp5D",
        "outputId": "ef42b134-55e1-4881-ad15-cb0df681c3f2"
      },
      "execution_count": 11,
      "outputs": [
        {
          "output_type": "display_data",
          "data": {
            "text/plain": [
              "<Figure size 1000x500 with 1 Axes>"
            ],
            "image/png": "[encoded data removed]"
          },
          "metadata": {}
        }
      ]
    },
    {
      "cell_type": "markdown",
      "source": [
        "final parameters"
      ],
      "metadata": {
        "id": "xhXBhGUlgglV"
      }
    },
    {
      "cell_type": "code",
      "source": [
        "# Print final values\n",
        "print(f\"Final Theta_0: {theta_0}\")\n",
        "print(f\"Final Theta_1: {theta_1}\")\n",
        "print(f\"Final Cost Function Value: {cost_history[-1]}\")"
      ],
      "metadata": {
        "colab": {
          "base_uri": "https://localhost:8080/"
        },
        "id": "seJ6yprYgcNL",
        "outputId": "cfe8a029-a94b-474e-f75a-41b532e65914"
      },
      "execution_count": 12,
      "outputs": [
        {
          "output_type": "stream",
          "name": "stdout",
          "text": [
            "Final Theta_0: -2.1774108890786064e-15\n",
            "Final Theta_1: 0.661955470994228\n",
            "Final Cost Function Value: 0.28090747721040477\n"
          ]
        }
      ]
    },
    {
      "cell_type": "code",
      "source": [],
      "metadata": {
        "id": "eNatKePWmrMs"
      },
      "execution_count": null,
      "outputs": []
    }
  ]
}